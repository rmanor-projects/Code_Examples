{
 "cells": [
  {
   "cell_type": "code",
   "execution_count": null,
   "metadata": {},
   "outputs": [],
   "source": [
    "# Tokens.ipynb\n",
    "\n",
    "# Important: please keep in untracked\n",
    "\n",
    "# Feb 9th, 2023\n",
    "\n",
    "# Revital Manor\n",
    "\n",
    " \n",
    "\n",
    "Azure_Blob_secrets = {\n",
    "\n",
    "    'myAccountName': \"stsfdcsnapshotsprod\",\n",
    "\n",
    "              'myAccountKey': \"xtMU8lKaqR/qwFrfcr4A3wkkHdX0swKjXJbNXeBHkTAmwv6WfLFlhdyJFAzH4+bxX+uDo0cb1Bxm+XXXXKtIw==\"\n",
    "\n",
    "}"
   ]
  }
 ],
 "metadata": {
  "language_info": {
   "name": "python"
  },
  "orig_nbformat": 4
 },
 "nbformat": 4,
 "nbformat_minor": 2
}
