{
 "cells": [
  {
   "cell_type": "markdown",
   "id": "a21e453c-f5d2-4f30-9bea-c2df3bf79caa",
   "metadata": {},
   "source": [
    "### Import"
   ]
  },
  {
   "cell_type": "code",
   "execution_count": 1,
   "id": "72284026-5981-4c47-9dd2-5223ff62bd1e",
   "metadata": {},
   "outputs": [],
   "source": [
    "from random import *\n",
    "import numpy as np\n",
    "import matplotlib.pyplot as plt"
   ]
  },
  {
   "cell_type": "markdown",
   "id": "9d8b1e23-4eb6-41e5-bbe2-64e747405bd3",
   "metadata": {},
   "source": [
    "### Question 4\n",
    "Write a function in R or Python which takes a vector of length L consisting only of 0s and 1s as input and returns the largest number of consecutive 1s\n",
    "from the vector as an integer, e.g. the function takes [1,1,0,1,1,1,0,0,1] and returns 3."
   ]
  },
  {
   "cell_type": "markdown",
   "id": "dc5241e1-5482-4c7d-8010-3e67faa07510",
   "metadata": {
    "tags": []
   },
   "source": [
    "### Function - Solution to Q4"
   ]
  },
  {
   "cell_type": "code",
   "execution_count": null,
   "id": "46d60540-d20a-43fd-add5-ef68ddcd3097",
   "metadata": {},
   "outputs": [],
   "source": [
    "def MaxCount_Consecutive_1s(zero_one_lst):\n",
    "    count = 0\n",
    "    max_count = 0\n",
    "    for item in zero_one_lst:\n",
    "        if item == 1:\n",
    "            count += 1\n",
    "            max_count = max(max_count, count)\n",
    "        else:\n",
    "            count = 0\n",
    "    return max_count"
   ]
  },
  {
   "cell_type": "markdown",
   "id": "9d584124-3f03-4280-a8af-60906e85a6ea",
   "metadata": {},
   "source": [
    "### Test Function"
   ]
  },
  {
   "cell_type": "code",
   "execution_count": null,
   "id": "2869cc59-423a-43b6-b0e8-dc8cc9bd17b7",
   "metadata": {},
   "outputs": [
    {
     "name": "stdout",
     "output_type": "stream",
     "text": [
      "3\n"
     ]
    }
   ],
   "source": [
    "# The example given in the Question:\n",
    "print(MaxCount_Consecutive_1s([1,1,0,1,1,1,0,0,1]))"
   ]
  },
  {
   "cell_type": "code",
   "execution_count": null,
   "id": "385ba21a-083c-48f1-bff2-7979e4b1da74",
   "metadata": {},
   "outputs": [
    {
     "name": "stdout",
     "output_type": "stream",
     "text": [
      "54\n",
      "[1, 0, 0, 0, 0, 1, 0, 0, 0, 0, 0, 1, 1, 0, 1, 1, 0, 1, 0, 0, 0, 0, 0, 1, 1, 1, 1, 1, 0, 0, 0, 1, 1, 0, 0, 0, 1, 1, 0, 0, 0, 0, 0, 0, 0, 0, 0, 0, 0, 1, 1, 1, 0, 0]\n",
      "5\n"
     ]
    }
   ],
   "source": [
    "# Producing a random vector of length L consisting only of 0s and 1s as input: \n",
    "L = randint(1, 100) # Pick a random number between 1 and 100.\n",
    "print(L)\n",
    "zero_count = randint(0, L)   # Pick a random number of 0s in list of legth L.\n",
    "one_count = L - zero_count\n",
    "zero_one_lst = [0]*zero_count + [1]*one_count\n",
    "shuffle(zero_one_lst)\n",
    "print(zero_one_lst)\n",
    "print(MaxCount_Consecutive_1s(zero_one_lst))"
   ]
  },
  {
   "cell_type": "code",
   "execution_count": null,
   "id": "2af61bf8-cd06-4805-b359-b173c790f2b9",
   "metadata": {},
   "outputs": [
    {
     "name": "stdout",
     "output_type": "stream",
     "text": [
      "0\n"
     ]
    }
   ],
   "source": [
    "print(MaxCount_Consecutive_1s([]))"
   ]
  },
  {
   "cell_type": "markdown",
   "id": "a95d21d0-8612-49a6-ac4d-fadf5e105b4d",
   "metadata": {},
   "source": [
    "END "
   ]
  },
  {
   "cell_type": "markdown",
   "id": "17a64440-b75d-4353-a810-ceddaab6853e",
   "metadata": {},
   "source": [
    "### Question 2\n",
    "gaming company is hiring a data scientist. Applicants are asked to participate in two online tests: (a) SQL and (b) Coding. For each of the tests,\n",
    "applicants are given a score between 0 and 100. Applicants with a total score (\"SQL\"+\"coding\") of more than 100 are invited for an interview.\n",
    "For the question, assume that applicants' scores in these two online tests are independently uniformly distributed random variables between 0 and 100.\n",
    "Explain and quantify your answers to the following questions:\n",
    "What is the correlation between SQL and Coding scores of all applicants?\n",
    "What is the correlation between SQL and Coding scores of applicants who passed the test?"
   ]
  },
  {
   "cell_type": "markdown",
   "id": "068dc031-306e-4b92-a1ed-4ac69cfd6b0d",
   "metadata": {
    "tags": []
   },
   "source": [
    "### Functions"
   ]
  },
  {
   "cell_type": "code",
   "execution_count": null,
   "id": "b7654ea0-0b45-4713-9fee-f342696f4165",
   "metadata": {},
   "outputs": [],
   "source": [
    "def scores(N):\n",
    "    \n",
    "    SQL_results = []\n",
    "    Coding_results = []\n",
    "    \n",
    "    for _ in range(N):\n",
    "                \n",
    "        SQL_score = randint(0, 100)\n",
    "        SQL_results.append(SQL_score)\n",
    "        \n",
    "        Coding_score = randint(0, 100)\n",
    "        Coding_results.append(Coding_score)\n",
    "        \n",
    "    return SQL_results, Coding_results"
   ]
  },
  {
   "cell_type": "code",
   "execution_count": 1,
   "id": "e6d8816a-4872-4e9d-a4ad-9c446457e3a0",
   "metadata": {},
   "outputs": [],
   "source": [
    "def sum_above_100(N, SQL_results, Coding_results):\n",
    "    \n",
    "    SQL_results_passed = []\n",
    "    Coding_results_passed = []\n",
    "    \n",
    "    for i in range(N):\n",
    "        sum_of_scores = SQL_results[i] + Coding_results[i]\n",
    "        \n",
    "        if sum_of_scores > 100:\n",
    "                SQL_results_passed.append(SQL_results[i])\n",
    "                Coding_results_passed.append(Coding_results[i])\n",
    "   \n",
    "    return SQL_results_passed, Coding_results_passed"
   ]
  },
  {
   "cell_type": "markdown",
   "id": "091ccf25-0fc9-4cc3-b86f-19cfd8514c1a",
   "metadata": {
    "tags": []
   },
   "source": [
    "### Correlation - Solution to Q2"
   ]
  },
  {
   "cell_type": "code",
   "execution_count": null,
   "id": "4e2a7f1f-58a1-4724-a8b0-17f5d4a18c98",
   "metadata": {},
   "outputs": [],
   "source": [
    "N = 100 # number of applicats"
   ]
  },
  {
   "cell_type": "code",
   "execution_count": null,
   "id": "b270135c-6e7f-4d3d-ad2d-8eeb51e43f9e",
   "metadata": {},
   "outputs": [],
   "source": [
    "SQL_results, Coding_results = scores(N)"
   ]
  },
  {
   "cell_type": "code",
   "execution_count": null,
   "id": "fdba6aa9-b508-4752-a224-a43aa9c6b0b3",
   "metadata": {},
   "outputs": [
    {
     "data": {
      "image/png": "[encoded data removed]",
      "text/plain": [
       "<Figure size 432x288 with 1 Axes>"
      ]
     },
     "metadata": {
      "needs_background": "light"
     },
     "output_type": "display_data"
    }
   ],
   "source": [
    "plt.scatter(SQL_results, Coding_results) \n",
    "plt.title(\"Correlation between SQL and Coding scores of all applicants\")\n",
    "plt.xlabel('SQL_results', fontweight='bold')\n",
    "plt.ylabel('Coding_results', fontweight='bold')\n",
    "plt.savefig('all.png', dpi = 150, bbox_inches= \"tight\")\n",
    "plt.show()"
   ]
  },
  {
   "cell_type": "code",
   "execution_count": null,
   "id": "8c7abc37-9768-438c-b42e-f89c829abd40",
   "metadata": {},
   "outputs": [
    {
     "name": "stdout",
     "output_type": "stream",
     "text": [
      "The correlation between x and y is : \n",
      "  [[ 1.         -0.00651943]\n",
      " [-0.00651943  1.        ]]\n"
     ]
    }
   ],
   "source": [
    "correlation = np.corrcoef(SQL_results, Coding_results)\n",
    "print(\"The correlation between x and y is : \\n \",correlation)"
   ]
  },
  {
   "cell_type": "code",
   "execution_count": null,
   "id": "b1b6f3c7-4aa3-45e0-94d9-82a34376ebc3",
   "metadata": {},
   "outputs": [],
   "source": [
    "SQL_results_passed, Coding_results_passed = sum_above_100(N, SQL_results, Coding_results)"
   ]
  },
  {
   "cell_type": "code",
   "execution_count": null,
   "id": "e6575993-a63b-49da-a25e-d7d35213074e",
   "metadata": {},
   "outputs": [
    {
     "data": {
      "image/png": "[encoded data removed]",
      "text/plain": [
       "<Figure size 432x288 with 1 Axes>"
      ]
     },
     "metadata": {
      "needs_background": "light"
     },
     "output_type": "display_data"
    }
   ],
   "source": [
    "plt.scatter(SQL_results_passed, Coding_results_passed) \n",
    "plt.title(\"Correlation between SQL and Coding scores of applicants who passed the test\")\n",
    "plt.xlabel('SQL_results_passed', fontweight='bold')\n",
    "plt.ylabel('Coding_results_passed', fontweight='bold')\n",
    "plt.savefig('passed.png', dpi = 150, bbox_inches= \"tight\")\n",
    "plt.show()"
   ]
  },
  {
   "cell_type": "code",
   "execution_count": null,
   "id": "465f891c-d3f5-4f8b-addb-ba263d25d34f",
   "metadata": {},
   "outputs": [
    {
     "name": "stdout",
     "output_type": "stream",
     "text": [
      "The correlation between x and y is : \n",
      "  [[ 1.         -0.56612231]\n",
      " [-0.56612231  1.        ]]\n"
     ]
    }
   ],
   "source": [
    "correlation_pssed = np.corrcoef(SQL_results_passed, Coding_results_passed)\n",
    "print(\"The correlation between x and y is : \\n \",correlation_pssed)"
   ]
  }
 ],
 "metadata": {
  "kernelspec": {
   "display_name": "Python 3.9.12 ('base')",
   "language": "python",
   "name": "python3"
  },
  "language_info": {
   "codemirror_mode": {
    "name": "ipython",
    "version": 3
   },
   "file_extension": ".py",
   "mimetype": "text/x-python",
   "name": "python",
   "nbconvert_exporter": "python",
   "pygments_lexer": "ipython3",
   "version": "3.9.12"
  },
  "toc-showmarkdowntxt": true,
  "vscode": {
   "interpreter": {
    "hash": "63ec4d5b4e7bf73884326d4b309099623a1182629689689a6ad99f33832b9909"
   }
  }
 },
 "nbformat": 4,
 "nbformat_minor": 5
}
