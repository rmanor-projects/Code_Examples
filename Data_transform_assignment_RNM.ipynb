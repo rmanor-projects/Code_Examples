{
 "cells": [
  {
   "cell_type": "markdown",
   "metadata": {},
   "source": [
    "### Import packages"
   ]
  },
  {
   "cell_type": "code",
   "execution_count": 1,
   "metadata": {},
   "outputs": [],
   "source": [
    "import pandas as pd\n",
    "import numpy as np\n",
    "import os"
   ]
  },
  {
   "cell_type": "markdown",
   "metadata": {},
   "source": [
    "### Download Data"
   ]
  },
  {
   "cell_type": "code",
   "execution_count": 2,
   "metadata": {},
   "outputs": [
    {
     "name": "stdout",
     "output_type": "stream",
     "text": [
      "env: SET=bec-data-MetroHealth-Dascena:/HarmonizedT-FeatureT/DNAnexus/\n",
      "Python variable datadir=data/bec-data-MetroHealth-Dascena//HarmonizedT-FeatureT/DNAnexus/\n"
     ]
    }
   ],
   "source": [
    "%env SET = bec-data-MetroHealth-Dascena:/HarmonizedT-FeatureT/DNAnexus/\n",
    "    \n",
    "datadir = \"data/\" + os.environ['SET'].replace(':','/')\n",
    "print(\"Python variable datadir=\" + datadir)"
   ]
  },
  {
   "cell_type": "code",
   "execution_count": 3,
   "metadata": {},
   "outputs": [
    {
     "name": "stdout",
     "output_type": "stream",
     "text": [
      "local directory: data/bec-data-MetroHealth-Dascena//HarmonizedT-FeatureT/DNAnexus/\n",
      "total 112K\n",
      "-rw-r--r-- 1 root root 6.0K Sep 19 13:29 123_coding_dictionary.csv\n",
      "-rw-r--r-- 1 root root  817 Sep 19 13:29 123_data_dictionary.csv\n",
      "-rw-r--r-- 1 root root 3.5K Sep 19 13:29 Data1.csv\n",
      "-rw-r--r-- 1 root root  12K Sep 19 13:29 Data123.csv\n",
      "-rw-r--r-- 1 root root 6.4K Sep 19 13:29 Data2.csv\n",
      "-rw-r--r-- 1 root root 3.7K Sep 19 13:29 Data3.csv\n",
      "-rw-r--r-- 1 root root  61K Sep 19 13:29 Data_transform_assignment_RNM.ipynb\n",
      "-rw-r--r-- 1 root root  114 Sep 19 13:29 example_codings_dict.csv\n",
      "-rw-r--r-- 1 root root  100 Sep 19 13:29 example_data_dict.csv\n"
     ]
    }
   ],
   "source": [
    "%%bash\n",
    "DIR=data/${SET/:/\\/}\n",
    "echo local directory: $DIR\n",
    "mkdir -p $DIR\n",
    "dx download -rf \"$SET/*\" --output $DIR\n",
    "\n",
    "ls -lh $DIR"
   ]
  },
  {
   "cell_type": "markdown",
   "metadata": {},
   "source": [
    "### Read CSV Files into Pandas DataFrame"
   ]
  },
  {
   "cell_type": "markdown",
   "metadata": {},
   "source": [
    "#### Input files: "
   ]
  },
  {
   "cell_type": "code",
   "execution_count": 4,
   "metadata": {},
   "outputs": [],
   "source": [
    "df1 = pd.read_csv(datadir + \"Data1.csv\")\n",
    "df2 = pd.read_csv(datadir + \"Data2.csv\")\n",
    "df3 = pd.read_csv(datadir + \"Data3.csv\")"
   ]
  },
  {
   "cell_type": "markdown",
   "metadata": {},
   "source": [
    "#### Example files:"
   ]
  },
  {
   "cell_type": "code",
   "execution_count": 17,
   "metadata": {},
   "outputs": [],
   "source": [
    "example_codings_dict = pd.read_csv(datadir + \"example_codings_dict.csv\")\n",
    "example_data_dict = pd.read_csv(datadir + \"example_data_dict.csv\")"
   ]
  },
  {
   "cell_type": "markdown",
   "metadata": {},
   "source": [
    "### Explore the Data"
   ]
  },
  {
   "cell_type": "markdown",
   "metadata": {},
   "source": [
    "#### Describe df1: "
   ]
  },
  {
   "cell_type": "code",
   "execution_count": 166,
   "metadata": {},
   "outputs": [
    {
     "data": {
      "text/html": [
       "<div>\n",
       "<style scoped>\n",
       "    .dataframe tbody tr th:only-of-type {\n",
       "        vertical-align: middle;\n",
       "    }\n",
       "\n",
       "    .dataframe tbody tr th {\n",
       "        vertical-align: top;\n",
       "    }\n",
       "\n",
       "    .dataframe thead th {\n",
       "        text-align: right;\n",
       "    }\n",
       "</style>\n",
       "<table border=\"1\" class=\"dataframe\">\n",
       "  <thead>\n",
       "    <tr style=\"text-align: right;\">\n",
       "      <th></th>\n",
       "      <th>Patient_ID</th>\n",
       "      <th>Intake_age</th>\n",
       "      <th>Sex</th>\n",
       "      <th>Race</th>\n",
       "      <th>Last_seen</th>\n",
       "    </tr>\n",
       "  </thead>\n",
       "  <tbody>\n",
       "    <tr>\n",
       "      <th>0</th>\n",
       "      <td>DJ1DBUTML8</td>\n",
       "      <td>66.351</td>\n",
       "      <td>M</td>\n",
       "      <td>White</td>\n",
       "      <td>2/11/21</td>\n",
       "    </tr>\n",
       "    <tr>\n",
       "      <th>1</th>\n",
       "      <td>DB77YVCX8R</td>\n",
       "      <td>66.416</td>\n",
       "      <td>F</td>\n",
       "      <td>White</td>\n",
       "      <td>2/11/21</td>\n",
       "    </tr>\n",
       "    <tr>\n",
       "      <th>2</th>\n",
       "      <td>D7NAYHHQAI</td>\n",
       "      <td>66.603</td>\n",
       "      <td>M</td>\n",
       "      <td>White</td>\n",
       "      <td>2/10/21</td>\n",
       "    </tr>\n",
       "    <tr>\n",
       "      <th>3</th>\n",
       "      <td>D74HHURP99</td>\n",
       "      <td>66.663</td>\n",
       "      <td>M</td>\n",
       "      <td>White</td>\n",
       "      <td>2/9/21</td>\n",
       "    </tr>\n",
       "    <tr>\n",
       "      <th>4</th>\n",
       "      <td>D2Y7HSIRWK</td>\n",
       "      <td>67.137</td>\n",
       "      <td>F</td>\n",
       "      <td>White</td>\n",
       "      <td>2/9/21</td>\n",
       "    </tr>\n",
       "  </tbody>\n",
       "</table>\n",
       "</div>"
      ],
      "text/plain": [
       "   Patient_ID Intake_age Sex   Race Last_seen\n",
       "0  DJ1DBUTML8     66.351   M  White   2/11/21\n",
       "1  DB77YVCX8R     66.416   F  White   2/11/21\n",
       "2  D7NAYHHQAI     66.603   M  White   2/10/21\n",
       "3  D74HHURP99     66.663   M  White    2/9/21\n",
       "4  D2Y7HSIRWK     67.137   F  White    2/9/21"
      ]
     },
     "execution_count": 166,
     "metadata": {},
     "output_type": "execute_result"
    }
   ],
   "source": [
    "df1.head()"
   ]
  },
  {
   "cell_type": "code",
   "execution_count": 167,
   "metadata": {},
   "outputs": [
    {
     "name": "stdout",
     "output_type": "stream",
     "text": [
      "<class 'pandas.core.frame.DataFrame'>\n",
      "RangeIndex: 100 entries, 0 to 99\n",
      "Data columns (total 5 columns):\n",
      "Patient_ID    100 non-null object\n",
      "Intake_age    100 non-null object\n",
      "Sex           100 non-null object\n",
      "Race          99 non-null object\n",
      "Last_seen     100 non-null object\n",
      "dtypes: object(5)\n",
      "memory usage: 4.0+ KB\n"
     ]
    }
   ],
   "source": [
    "df1.info()"
   ]
  },
  {
   "cell_type": "code",
   "execution_count": 6,
   "metadata": {},
   "outputs": [
    {
     "name": "stdout",
     "output_type": "stream",
     "text": [
      "True\n",
      "100 100\n"
     ]
    }
   ],
   "source": [
    "# Is df1.Patient_ID a unique key -> YES -> one patient per row (100 rows)\n",
    "print(len(df1.Patient_ID.unique()) == len(df1.Patient_ID))\n",
    "print(len(df1.Patient_ID.unique()), len(df1.Patient_ID))"
   ]
  },
  {
   "cell_type": "markdown",
   "metadata": {},
   "source": [
    "#### Describe df2: "
   ]
  },
  {
   "cell_type": "code",
   "execution_count": 7,
   "metadata": {},
   "outputs": [
    {
     "data": {
      "text/html": [
       "<div>\n",
       "<style scoped>\n",
       "    .dataframe tbody tr th:only-of-type {\n",
       "        vertical-align: middle;\n",
       "    }\n",
       "\n",
       "    .dataframe tbody tr th {\n",
       "        vertical-align: top;\n",
       "    }\n",
       "\n",
       "    .dataframe thead th {\n",
       "        text-align: right;\n",
       "    }\n",
       "</style>\n",
       "<table border=\"1\" class=\"dataframe\">\n",
       "  <thead>\n",
       "    <tr style=\"text-align: right;\">\n",
       "      <th></th>\n",
       "      <th>Patient_ID</th>\n",
       "      <th>PrimaryDiagnosisSiteCode</th>\n",
       "      <th>Histology</th>\n",
       "      <th>ClinTStage</th>\n",
       "      <th>ClinNStage</th>\n",
       "      <th>ClinMStage</th>\n",
       "    </tr>\n",
       "  </thead>\n",
       "  <tbody>\n",
       "    <tr>\n",
       "      <th>0</th>\n",
       "      <td>DJ1DBUTML8</td>\n",
       "      <td>C49.1</td>\n",
       "      <td>Malignant Peripheral Nerve Sheath Tumor</td>\n",
       "      <td>Tx</td>\n",
       "      <td>N0</td>\n",
       "      <td>M0</td>\n",
       "    </tr>\n",
       "    <tr>\n",
       "      <th>1</th>\n",
       "      <td>DB77YVCX8R</td>\n",
       "      <td>C49.2</td>\n",
       "      <td>Fibromyxosarcoma</td>\n",
       "      <td>Tx</td>\n",
       "      <td>c0</td>\n",
       "      <td>c0</td>\n",
       "    </tr>\n",
       "    <tr>\n",
       "      <th>2</th>\n",
       "      <td>D7NAYHHQAI</td>\n",
       "      <td>C49.2</td>\n",
       "      <td>Malignant Peripheral Nerve Sheath Tumor</td>\n",
       "      <td>Unknown/Not Reported</td>\n",
       "      <td>c0</td>\n",
       "      <td>c0i</td>\n",
       "    </tr>\n",
       "    <tr>\n",
       "      <th>3</th>\n",
       "      <td>D74HHURP99</td>\n",
       "      <td>C49.2</td>\n",
       "      <td>Synovial Sarcoma, NOS</td>\n",
       "      <td>Unknown/Not Reported</td>\n",
       "      <td>c0</td>\n",
       "      <td>c0</td>\n",
       "    </tr>\n",
       "    <tr>\n",
       "      <th>4</th>\n",
       "      <td>D2Y7HSIRWK</td>\n",
       "      <td>C49.2</td>\n",
       "      <td>Liposarcoma, Well Differentiated</td>\n",
       "      <td>Unknown/Not Reported</td>\n",
       "      <td>N0</td>\n",
       "      <td>M0</td>\n",
       "    </tr>\n",
       "  </tbody>\n",
       "</table>\n",
       "</div>"
      ],
      "text/plain": [
       "   Patient_ID PrimaryDiagnosisSiteCode  \\\n",
       "0  DJ1DBUTML8                    C49.1   \n",
       "1  DB77YVCX8R                    C49.2   \n",
       "2  D7NAYHHQAI                    C49.2   \n",
       "3  D74HHURP99                    C49.2   \n",
       "4  D2Y7HSIRWK                    C49.2   \n",
       "\n",
       "                                 Histology            ClinTStage ClinNStage  \\\n",
       "0  Malignant Peripheral Nerve Sheath Tumor                    Tx         N0   \n",
       "1                         Fibromyxosarcoma                    Tx         c0   \n",
       "2  Malignant Peripheral Nerve Sheath Tumor  Unknown/Not Reported         c0   \n",
       "3                    Synovial Sarcoma, NOS  Unknown/Not Reported         c0   \n",
       "4         Liposarcoma, Well Differentiated  Unknown/Not Reported         N0   \n",
       "\n",
       "  ClinMStage  \n",
       "0         M0  \n",
       "1         c0  \n",
       "2        c0i  \n",
       "3         c0  \n",
       "4         M0  "
      ]
     },
     "execution_count": 7,
     "metadata": {},
     "output_type": "execute_result"
    }
   ],
   "source": [
    "df2.head()"
   ]
  },
  {
   "cell_type": "code",
   "execution_count": 8,
   "metadata": {},
   "outputs": [
    {
     "name": "stdout",
     "output_type": "stream",
     "text": [
      "<class 'pandas.core.frame.DataFrame'>\n",
      "RangeIndex: 102 entries, 0 to 101\n",
      "Data columns (total 6 columns):\n",
      "Patient_ID                  102 non-null object\n",
      "PrimaryDiagnosisSiteCode    102 non-null object\n",
      "Histology                   102 non-null object\n",
      "ClinTStage                  93 non-null object\n",
      "ClinNStage                  82 non-null object\n",
      "ClinMStage                  83 non-null object\n",
      "dtypes: object(6)\n",
      "memory usage: 4.9+ KB\n"
     ]
    }
   ],
   "source": [
    "df2.info()"
   ]
  },
  {
   "cell_type": "code",
   "execution_count": 9,
   "metadata": {},
   "outputs": [
    {
     "name": "stdout",
     "output_type": "stream",
     "text": [
      "False\n",
      "100 102\n"
     ]
    }
   ],
   "source": [
    "# Is df2.Patient_ID a unique key -> NO -> there are two patients that appear twice\n",
    "print(len(df2.Patient_ID.unique()) == len(df2.Patient_ID))\n",
    "print(len(df2.Patient_ID.unique()), len(df2.Patient_ID))"
   ]
  },
  {
   "cell_type": "code",
   "execution_count": 10,
   "metadata": {},
   "outputs": [
    {
     "data": {
      "text/plain": [
       "True"
      ]
     },
     "execution_count": 10,
     "metadata": {},
     "output_type": "execute_result"
    }
   ],
   "source": [
    "df2.drop_duplicates().shape == df2.shape  # No duplicates "
   ]
  },
  {
   "cell_type": "code",
   "execution_count": 173,
   "metadata": {},
   "outputs": [
    {
     "name": "stdout",
     "output_type": "stream",
     "text": [
      " Primary Diagnosi Code - unique values:\n",
      "['C49.1' 'C49.2' 'C49.4' 'C49.5' 'C49.3' 'C34.3' 'C64.9' 'C49.0' 'C48.0'\n",
      " 'C18.9' 'C09.1' 'C74.9' 'C49.6' 'C63.1' 'C38.1' 'C16.1' 'C48.1' 'C17.9'\n",
      " 'C54.9' 'C18.2' 'C47.1' 'C61.9']\n",
      "\n",
      "Histology - unique values:\n",
      "['Malignant Peripheral Nerve Sheath Tumor' 'Fibromyxosarcoma'\n",
      " 'Synovial Sarcoma, NOS' 'Liposarcoma, Well Differentiated'\n",
      " 'Undifferentiated Sarcoma' 'Leiomyosarcoma, NOS' 'Retinoblastoma, NOS'\n",
      " 'Meningioma, NOS' 'Dedifferentiated Liposarcoma'\n",
      " 'Papillary Microcarcinoma' 'Invasive Carcinoma of No Special Type'\n",
      " 'Papillary Adenocarcinoma, NOS' 'Clear Cell Adenocarcinoma, NOS'\n",
      " 'Synovial Sarcoma, Spindle Cell' 'Transitional Cell Carcinoma In Situ'\n",
      " 'Adenocarcinoma, NOS' 'Hepatocellular Carcinoma, NOS'\n",
      " 'Malignant Fibrous Histiocytoma']\n",
      "\n",
      "TStage - unique values:\n",
      "['Tx' 'Unknown/Not Reported' nan 'T2b'\n",
      " 'No TNM applicable for this site/histology combination' 'T2' 'T1' 'c2a'\n",
      " 'c1c' 'T1a' 'T1b' 'c2' 'cx' 'c4b' 'cis' 'c1' 'c1a' 'c1b' 'c2b']\n",
      "\n",
      "NStage - unique values:\n",
      "['N0' 'c0' nan 'Nx'\n",
      " 'No TNM applicable for this site/histology combination'\n",
      " 'Unknown/Not Reported' 'cx']\n",
      "\n",
      "MStage - unique values:\n",
      "['M0' 'c0' 'c0i' nan 'M1'\n",
      " 'No TNM applicable for this site/histology combination' 'cX'\n",
      " 'Unknown/Not Reported' 'c1' 'MX']\n",
      "\n"
     ]
    }
   ],
   "source": [
    "print(' Primary Diagnosi Code - unique values:')\n",
    "print(df2.PrimaryDiagnosisSiteCode.unique(), end='\\n\\n')\n",
    "print('Histology - unique values:')\n",
    "print(df2.Histology.unique(), end='\\n\\n')\n",
    "print('TStage - unique values:')\n",
    "print(df2.ClinTStage.unique(), end='\\n\\n')  \n",
    "print('NStage - unique values:')\n",
    "print(df2.ClinNStage.unique(), end='\\n\\n')\n",
    "print('MStage - unique values:')\n",
    "print(df2.ClinMStage.unique(), end='\\n\\n')"
   ]
  },
  {
   "cell_type": "markdown",
   "metadata": {},
   "source": [
    "#### Describe df3: "
   ]
  },
  {
   "cell_type": "code",
   "execution_count": 11,
   "metadata": {},
   "outputs": [
    {
     "data": {
      "text/html": [
       "<div>\n",
       "<style scoped>\n",
       "    .dataframe tbody tr th:only-of-type {\n",
       "        vertical-align: middle;\n",
       "    }\n",
       "\n",
       "    .dataframe tbody tr th {\n",
       "        vertical-align: top;\n",
       "    }\n",
       "\n",
       "    .dataframe thead th {\n",
       "        text-align: right;\n",
       "    }\n",
       "</style>\n",
       "<table border=\"1\" class=\"dataframe\">\n",
       "  <thead>\n",
       "    <tr style=\"text-align: right;\">\n",
       "      <th></th>\n",
       "      <th>Patient_ID</th>\n",
       "      <th>pathologic tumor size</th>\n",
       "      <th>mitotic rate</th>\n",
       "      <th>HEIGHT3</th>\n",
       "      <th>WEIGHT</th>\n",
       "      <th>BMI</th>\n",
       "      <th>Current_patent</th>\n",
       "    </tr>\n",
       "  </thead>\n",
       "  <tbody>\n",
       "    <tr>\n",
       "      <th>0</th>\n",
       "      <td>DJ1DBUTML8</td>\n",
       "      <td>8.0</td>\n",
       "      <td>25.0</td>\n",
       "      <td>70.00</td>\n",
       "      <td>10.00</td>\n",
       "      <td>1.43</td>\n",
       "      <td>N</td>\n",
       "    </tr>\n",
       "    <tr>\n",
       "      <th>1</th>\n",
       "      <td>DB77YVCX8R</td>\n",
       "      <td>18.0</td>\n",
       "      <td>7.0</td>\n",
       "      <td>48.62</td>\n",
       "      <td>29.92</td>\n",
       "      <td>8.90</td>\n",
       "      <td>Y</td>\n",
       "    </tr>\n",
       "    <tr>\n",
       "      <th>2</th>\n",
       "      <td>D7NAYHHQAI</td>\n",
       "      <td>25.0</td>\n",
       "      <td>2.0</td>\n",
       "      <td>44.00</td>\n",
       "      <td>29.30</td>\n",
       "      <td>10.64</td>\n",
       "      <td>Y</td>\n",
       "    </tr>\n",
       "    <tr>\n",
       "      <th>3</th>\n",
       "      <td>D74HHURP99</td>\n",
       "      <td>11.5</td>\n",
       "      <td>7.0</td>\n",
       "      <td>52.50</td>\n",
       "      <td>43.00</td>\n",
       "      <td>10.97</td>\n",
       "      <td>Y</td>\n",
       "    </tr>\n",
       "    <tr>\n",
       "      <th>4</th>\n",
       "      <td>D2Y7HSIRWK</td>\n",
       "      <td>6.5</td>\n",
       "      <td>10.0</td>\n",
       "      <td>50.00</td>\n",
       "      <td>40.26</td>\n",
       "      <td>11.32</td>\n",
       "      <td>Y</td>\n",
       "    </tr>\n",
       "  </tbody>\n",
       "</table>\n",
       "</div>"
      ],
      "text/plain": [
       "   Patient_ID  pathologic tumor size  mitotic rate  HEIGHT3  WEIGHT    BMI  \\\n",
       "0  DJ1DBUTML8                    8.0          25.0    70.00   10.00   1.43   \n",
       "1  DB77YVCX8R                   18.0           7.0    48.62   29.92   8.90   \n",
       "2  D7NAYHHQAI                   25.0           2.0    44.00   29.30  10.64   \n",
       "3  D74HHURP99                   11.5           7.0    52.50   43.00  10.97   \n",
       "4  D2Y7HSIRWK                    6.5          10.0    50.00   40.26  11.32   \n",
       "\n",
       "  Current_patent  \n",
       "0              N  \n",
       "1              Y  \n",
       "2              Y  \n",
       "3              Y  \n",
       "4              Y  "
      ]
     },
     "execution_count": 11,
     "metadata": {},
     "output_type": "execute_result"
    }
   ],
   "source": [
    "df3.head()"
   ]
  },
  {
   "cell_type": "code",
   "execution_count": 12,
   "metadata": {},
   "outputs": [
    {
     "name": "stdout",
     "output_type": "stream",
     "text": [
      "<class 'pandas.core.frame.DataFrame'>\n",
      "RangeIndex: 103 entries, 0 to 102\n",
      "Data columns (total 7 columns):\n",
      "Patient_ID               103 non-null object\n",
      "pathologic tumor size    101 non-null float64\n",
      "mitotic rate             102 non-null float64\n",
      "HEIGHT3                  103 non-null float64\n",
      "WEIGHT                   103 non-null float64\n",
      "BMI                      103 non-null float64\n",
      "Current_patent           97 non-null object\n",
      "dtypes: float64(5), object(2)\n",
      "memory usage: 5.8+ KB\n"
     ]
    }
   ],
   "source": [
    "df3.info()"
   ]
  },
  {
   "cell_type": "code",
   "execution_count": 13,
   "metadata": {},
   "outputs": [
    {
     "data": {
      "text/plain": [
       "True"
      ]
     },
     "execution_count": 13,
     "metadata": {},
     "output_type": "execute_result"
    }
   ],
   "source": [
    "df3.drop_duplicates().shape == df3.shape # No duplicates "
   ]
  },
  {
   "cell_type": "code",
   "execution_count": 15,
   "metadata": {},
   "outputs": [
    {
     "name": "stdout",
     "output_type": "stream",
     "text": [
      "True\n",
      "103 103\n"
     ]
    }
   ],
   "source": [
    "# Is df3.Patient_ID a unique key -> YES -> one patient per row (103 rows)\n",
    "print(len(df3.Patient_ID.unique()) == len(df3.Patient_ID))\n",
    "print(len(df3.Patient_ID.unique()), len(df3.Patient_ID))"
   ]
  },
  {
   "cell_type": "code",
   "execution_count": 16,
   "metadata": {},
   "outputs": [
    {
     "name": "stdout",
     "output_type": "stream",
     "text": [
      "{'6F60Y70O', '10R407K3', '1C060V70'}\n",
      "{'6F60Y70O', '10R407K3', '1C060V70'}\n"
     ]
    }
   ],
   "source": [
    "# Df3 has (the same) 3 extra patients compared to df1 and df2:\n",
    "print(set(df3.Patient_ID.unique()) - set(df1.Patient_ID.unique()))\n",
    "print(set(df3.Patient_ID.unique()) - set(df2.Patient_ID.unique()))"
   ]
  },
  {
   "cell_type": "markdown",
   "metadata": {},
   "source": [
    "### Task 1:\n",
    "\n",
    "❖\tCreate a data file named Data123.csv. This file will combine the data from the three input files into a single output with one patient per row. \n"
   ]
  },
  {
   "cell_type": "markdown",
   "metadata": {},
   "source": [
    "### Solution 1"
   ]
  },
  {
   "cell_type": "code",
   "execution_count": 22,
   "metadata": {},
   "outputs": [],
   "source": [
    "# Three-way megre - df1 and df2 and joined by an inner join, while df3 is joined using a right join to include the 3 extra patients:\n",
    "Data123 = pd.merge(pd.merge(df1,df2,on='Patient_ID', how =\"inner\"),df3,on='Patient_ID', how =\"right\")"
   ]
  },
  {
   "cell_type": "code",
   "execution_count": 27,
   "metadata": {},
   "outputs": [
    {
     "name": "stdout",
     "output_type": "stream",
     "text": [
      "(103, 16)\n",
      "103\n"
     ]
    }
   ],
   "source": [
    "print(Data123.shape)\n",
    "print(len(Data123.Patient_ID.unique()))\n",
    "#Data123.sort_values(by=['Intake_age']).tail()"
   ]
  },
  {
   "cell_type": "code",
   "execution_count": 24,
   "metadata": {},
   "outputs": [],
   "source": [
    "# Use groupby followedby aggregate to collapse multiple patients rows into one row per patient:  \n",
    "Data123 = Data123.groupby(['Patient_ID'], as_index=False).agg({'Sex': 'first', \n",
    "                                                                 'Race': 'first',\n",
    "                                                                 'Intake_age': set,\n",
    "                                                                 'Last_seen': set, \n",
    "                                                                 'PrimaryDiagnosisSiteCode': set,\n",
    "                                                                 'Histology': set,\n",
    "                                                                 'ClinTStage': set,\n",
    "                                                                 'ClinNStage': set,\n",
    "                                                                 'ClinMStage': set,\n",
    "                                                                 'pathologic tumor size': set,\n",
    "                                                                 'mitotic rate': set,\n",
    "                                                                 'HEIGHT3': set,\n",
    "                                                                 'WEIGHT': set,\n",
    "                                                                 'BMI': set,\n",
    "                                                                 'Current_patent': set})"
   ]
  },
  {
   "cell_type": "code",
   "execution_count": 25,
   "metadata": {},
   "outputs": [
    {
     "name": "stdout",
     "output_type": "stream",
     "text": [
      "rows with sets of values: [62, 14]\n",
      "columns with sets of values: ['ClinTStage', 'PrimaryDiagnosisSiteCode', 'ClinMStage', 'ClinNStage', 'Histology']\n"
     ]
    }
   ],
   "source": [
    "# Get rid off sets in cases where there's a signgle value in record:\n",
    "\n",
    "col_lst3_ = Data123.columns.to_list()[3:]\n",
    "\n",
    "# Lists of indices where value is a set of two values \n",
    "idx_lst = []\n",
    "# Lists of columns where value is a set of two values -> we will use this information in the solution for Task 3\n",
    "col_lst = []\n",
    "\n",
    "for name, values in Data123[col_lst3_].iteritems():\n",
    "    for index, value in values.iteritems():\n",
    "        if len(value) == 1:\n",
    "            Data123.at[index , name] = list(value)[0]\n",
    "        else:\n",
    "            idx_lst.append(index)\n",
    "            col_lst.append(name)\n",
    "            \n",
    "print('rows with sets of values:', list(set(idx_lst)))\n",
    "print('columns with sets of values:', list(set(col_lst)))"
   ]
  },
  {
   "cell_type": "code",
   "execution_count": 184,
   "metadata": {},
   "outputs": [
    {
     "data": {
      "text/plain": [
       "Patient_ID                                                       84GIKAQ7SE\n",
       "Sex                                                                       F\n",
       "Race                                                                  White\n",
       "Intake_age                                                           74.071\n",
       "Last_seen                                                           1/22/21\n",
       "PrimaryDiagnosisSiteCode                                     {C38.1, C49.1}\n",
       "Histology                   {Leiomyosarcoma, NOS, Undifferentiated Sarcoma}\n",
       "ClinTStage                                                       {T1b, T2b}\n",
       "ClinNStage                                       {cx, Unknown/Not Reported}\n",
       "ClinMStage                                       {Unknown/Not Reported, MX}\n",
       "pathologic tumor size                                                    17\n",
       "mitotic rate                                                              3\n",
       "HEIGHT3                                                               44.88\n",
       "WEIGHT                                                                39.82\n",
       "BMI                                                                    13.9\n",
       "Current_patent                                                            Y\n",
       "Name: 62, dtype: object"
      ]
     },
     "execution_count": 184,
     "metadata": {},
     "output_type": "execute_result"
    }
   ],
   "source": [
    "# Example - records in row 62:\n",
    "Data123.loc[62]"
   ]
  },
  {
   "cell_type": "code",
   "execution_count": 26,
   "metadata": {},
   "outputs": [
    {
     "name": "stdout",
     "output_type": "stream",
     "text": [
      "(103, 16)\n"
     ]
    },
    {
     "data": {
      "text/html": [
       "<div>\n",
       "<style scoped>\n",
       "    .dataframe tbody tr th:only-of-type {\n",
       "        vertical-align: middle;\n",
       "    }\n",
       "\n",
       "    .dataframe tbody tr th {\n",
       "        vertical-align: top;\n",
       "    }\n",
       "\n",
       "    .dataframe thead th {\n",
       "        text-align: right;\n",
       "    }\n",
       "</style>\n",
       "<table border=\"1\" class=\"dataframe\">\n",
       "  <thead>\n",
       "    <tr style=\"text-align: right;\">\n",
       "      <th></th>\n",
       "      <th>Patient_ID</th>\n",
       "      <th>Sex</th>\n",
       "      <th>Race</th>\n",
       "      <th>Intake_age</th>\n",
       "      <th>Last_seen</th>\n",
       "      <th>PrimaryDiagnosisSiteCode</th>\n",
       "      <th>Histology</th>\n",
       "      <th>ClinTStage</th>\n",
       "      <th>ClinNStage</th>\n",
       "      <th>ClinMStage</th>\n",
       "      <th>pathologic tumor size</th>\n",
       "      <th>mitotic rate</th>\n",
       "      <th>HEIGHT3</th>\n",
       "      <th>WEIGHT</th>\n",
       "      <th>BMI</th>\n",
       "      <th>Current_patent</th>\n",
       "    </tr>\n",
       "  </thead>\n",
       "  <tbody>\n",
       "    <tr>\n",
       "      <th>1</th>\n",
       "      <td>095QMAZA7F</td>\n",
       "      <td>F</td>\n",
       "      <td>White</td>\n",
       "      <td>Age 90 or older</td>\n",
       "      <td>12/23/20</td>\n",
       "      <td>C49.2</td>\n",
       "      <td>Adenocarcinoma, NOS</td>\n",
       "      <td>T2</td>\n",
       "      <td>N0</td>\n",
       "      <td>M0</td>\n",
       "      <td>15.1</td>\n",
       "      <td>12</td>\n",
       "      <td>29.3</td>\n",
       "      <td>28.6</td>\n",
       "      <td>16.99</td>\n",
       "      <td>N</td>\n",
       "    </tr>\n",
       "    <tr>\n",
       "      <th>0</th>\n",
       "      <td>06VD4EX00D</td>\n",
       "      <td>F</td>\n",
       "      <td>White</td>\n",
       "      <td>Age 90 or older</td>\n",
       "      <td>12/23/20</td>\n",
       "      <td>C49.6</td>\n",
       "      <td>Dedifferentiated Liposarcoma</td>\n",
       "      <td>T1</td>\n",
       "      <td>c0</td>\n",
       "      <td>c0</td>\n",
       "      <td>NaN</td>\n",
       "      <td>NaN</td>\n",
       "      <td>52</td>\n",
       "      <td>65.5</td>\n",
       "      <td>17.03</td>\n",
       "      <td>Y</td>\n",
       "    </tr>\n",
       "    <tr>\n",
       "      <th>7</th>\n",
       "      <td>10R407K3</td>\n",
       "      <td>NaN</td>\n",
       "      <td>NaN</td>\n",
       "      <td>NaN</td>\n",
       "      <td>NaN</td>\n",
       "      <td>NaN</td>\n",
       "      <td>NaN</td>\n",
       "      <td>NaN</td>\n",
       "      <td>NaN</td>\n",
       "      <td>NaN</td>\n",
       "      <td>7.1</td>\n",
       "      <td>23</td>\n",
       "      <td>24.02</td>\n",
       "      <td>13.11</td>\n",
       "      <td>15.97</td>\n",
       "      <td>Y</td>\n",
       "    </tr>\n",
       "    <tr>\n",
       "      <th>10</th>\n",
       "      <td>1C060V70</td>\n",
       "      <td>NaN</td>\n",
       "      <td>NaN</td>\n",
       "      <td>NaN</td>\n",
       "      <td>NaN</td>\n",
       "      <td>NaN</td>\n",
       "      <td>NaN</td>\n",
       "      <td>NaN</td>\n",
       "      <td>NaN</td>\n",
       "      <td>NaN</td>\n",
       "      <td>21</td>\n",
       "      <td>5</td>\n",
       "      <td>52.6</td>\n",
       "      <td>60</td>\n",
       "      <td>15.25</td>\n",
       "      <td>N</td>\n",
       "    </tr>\n",
       "    <tr>\n",
       "      <th>50</th>\n",
       "      <td>6F60Y70O</td>\n",
       "      <td>NaN</td>\n",
       "      <td>NaN</td>\n",
       "      <td>NaN</td>\n",
       "      <td>NaN</td>\n",
       "      <td>NaN</td>\n",
       "      <td>NaN</td>\n",
       "      <td>NaN</td>\n",
       "      <td>NaN</td>\n",
       "      <td>NaN</td>\n",
       "      <td>22</td>\n",
       "      <td>5</td>\n",
       "      <td>53.7</td>\n",
       "      <td>49.4</td>\n",
       "      <td>14.35</td>\n",
       "      <td>N</td>\n",
       "    </tr>\n",
       "  </tbody>\n",
       "</table>\n",
       "</div>"
      ],
      "text/plain": [
       "    Patient_ID  Sex   Race       Intake_age Last_seen  \\\n",
       "1   095QMAZA7F    F  White  Age 90 or older  12/23/20   \n",
       "0   06VD4EX00D    F  White  Age 90 or older  12/23/20   \n",
       "7     10R407K3  NaN    NaN              NaN       NaN   \n",
       "10    1C060V70  NaN    NaN              NaN       NaN   \n",
       "50    6F60Y70O  NaN    NaN              NaN       NaN   \n",
       "\n",
       "   PrimaryDiagnosisSiteCode                     Histology ClinTStage  \\\n",
       "1                     C49.2           Adenocarcinoma, NOS         T2   \n",
       "0                     C49.6  Dedifferentiated Liposarcoma         T1   \n",
       "7                       NaN                           NaN        NaN   \n",
       "10                      NaN                           NaN        NaN   \n",
       "50                      NaN                           NaN        NaN   \n",
       "\n",
       "   ClinNStage ClinMStage pathologic tumor size mitotic rate HEIGHT3 WEIGHT  \\\n",
       "1          N0         M0                  15.1           12    29.3   28.6   \n",
       "0          c0         c0                   NaN          NaN      52   65.5   \n",
       "7         NaN        NaN                   7.1           23   24.02  13.11   \n",
       "10        NaN        NaN                    21            5    52.6     60   \n",
       "50        NaN        NaN                    22            5    53.7   49.4   \n",
       "\n",
       "      BMI Current_patent  \n",
       "1   16.99              N  \n",
       "0   17.03              Y  \n",
       "7   15.97              Y  \n",
       "10  15.25              N  \n",
       "50  14.35              N  "
      ]
     },
     "execution_count": 26,
     "metadata": {},
     "output_type": "execute_result"
    }
   ],
   "source": [
    "print(Data123.shape)\n",
    "Data123.sort_values(by=['Intake_age']).tail()"
   ]
  },
  {
   "cell_type": "code",
   "execution_count": 30,
   "metadata": {},
   "outputs": [
    {
     "name": "stdout",
     "output_type": "stream",
     "text": [
      "True\n",
      "103 103\n"
     ]
    }
   ],
   "source": [
    "# test: data from the three input files with one patient per row.\n",
    "print(len(Data123.Patient_ID.unique()) == Data123.shape[0])\n",
    "print(len(Data123.Patient_ID.unique()), Data123.shape[0])"
   ]
  },
  {
   "cell_type": "code",
   "execution_count": 187,
   "metadata": {},
   "outputs": [],
   "source": [
    "# save dateframe Data123 to csv file:\n",
    "Data123.to_csv('Data123.csv') "
   ]
  },
  {
   "cell_type": "markdown",
   "metadata": {},
   "source": [
    "##### Uploading to DNAnexus:"
   ]
  },
  {
   "cell_type": "code",
   "execution_count": 188,
   "metadata": {},
   "outputs": [
    {
     "name": "stdout",
     "output_type": "stream",
     "text": [
      "file-GGYqbzQ0k906Y6KY5f04724Q\n"
     ]
    }
   ],
   "source": [
    "%%bash\n",
    "dx upload 'Data123.csv' --path /HarmonizedT-FeatureT/DNAnexus/ --brief"
   ]
  },
  {
   "cell_type": "markdown",
   "metadata": {},
   "source": [
    "### Task 2:\n",
    "\n",
    "❖\tCreate a data dictionary file named  123_data_dictionary.csv. This file will contain one row for each column of data in the combined data file. \n",
    "\n",
    "➢\tFor each column of data, list the name, the type of data(string, int, float, date), description, and units if applicable.  \n",
    "➢\tIn addition, for string fields, all unique values should be compiled in a codings list. Data columns for which a coding list is compiled should be marked in the data dictionary with an entry in the “coding_name” column.\n",
    "➢\tAn example file named example_data_dict.csv is provided.\n"
   ]
  },
  {
   "cell_type": "code",
   "execution_count": 189,
   "metadata": {},
   "outputs": [
    {
     "data": {
      "text/html": [
       "<div>\n",
       "<style scoped>\n",
       "    .dataframe tbody tr th:only-of-type {\n",
       "        vertical-align: middle;\n",
       "    }\n",
       "\n",
       "    .dataframe tbody tr th {\n",
       "        vertical-align: top;\n",
       "    }\n",
       "\n",
       "    .dataframe thead th {\n",
       "        text-align: right;\n",
       "    }\n",
       "</style>\n",
       "<table border=\"1\" class=\"dataframe\">\n",
       "  <thead>\n",
       "    <tr style=\"text-align: right;\">\n",
       "      <th></th>\n",
       "      <th>name</th>\n",
       "      <th>coding_name</th>\n",
       "      <th>type</th>\n",
       "      <th>description</th>\n",
       "      <th>units</th>\n",
       "    </tr>\n",
       "  </thead>\n",
       "  <tbody>\n",
       "    <tr>\n",
       "      <th>0</th>\n",
       "      <td>Patient_ID</td>\n",
       "      <td>NaN</td>\n",
       "      <td>string</td>\n",
       "      <td>Patient Identifier</td>\n",
       "      <td>NaN</td>\n",
       "    </tr>\n",
       "    <tr>\n",
       "      <th>1</th>\n",
       "      <td>Sex</td>\n",
       "      <td>SEX</td>\n",
       "      <td>string</td>\n",
       "      <td>Sex</td>\n",
       "      <td>NaN</td>\n",
       "    </tr>\n",
       "  </tbody>\n",
       "</table>\n",
       "</div>"
      ],
      "text/plain": [
       "         name coding_name    type         description  units\n",
       "0  Patient_ID         NaN  string  Patient Identifier    NaN\n",
       "1         Sex         SEX  string                 Sex    NaN"
      ]
     },
     "execution_count": 189,
     "metadata": {},
     "output_type": "execute_result"
    }
   ],
   "source": [
    "example_data_dict.head()"
   ]
  },
  {
   "cell_type": "markdown",
   "metadata": {},
   "source": [
    "### Solution 2"
   ]
  },
  {
   "cell_type": "code",
   "execution_count": 31,
   "metadata": {},
   "outputs": [],
   "source": [
    "# Buiding a python dict\n",
    "dictionary = {\n",
    "    'name' : Data123.columns.to_list(),\n",
    "    'coding_name': [np.nan, 'SEX', 'RACE', np.nan, np.nan, 'ICD10', 'Diagnosis', 'TNM staging - T category', 'TNM staging - N category', 'TNM staging - M category', np.nan, np.nan, np.nan, np.nan, np.nan, 'NY'],\n",
    "    'type': ['string', 'string', 'string', 'float', 'date', 'string', 'string', 'string', 'string', 'string', 'float', 'float', 'float', 'float', 'float', 'string'],\n",
    "    'description': ['Patient Identifier', 'Sex', 'Race', 'Intake Age', 'Date of Last Visit', 'Primary Diagnosis Code', \n",
    "                    'Patient condition or diagnosis name', 'Stage of original (primary) tumor', 'Stage of the lymph nodes', 'Stage of the Metastasis', \n",
    "                    'Pathologic Tumor Size', 'Measure of Cell Growth', 'Tumor Height', 'Tumor Weight', 'Tumor Body Mass Index', 'Current Patient'],\n",
    "    'units': [np.nan, np.nan, np.nan, 'year', np.nan, np.nan, np.nan, np.nan, np.nan, np.nan, 'cm', 'mm2', 'mm', 'gr', 'kg / m2', np.nan]  \n",
    "}\n",
    "\n",
    "# creating a Dataframe object \n",
    "data_dictionary_df = pd.DataFrame(dictionary)\n",
    "\n",
    "# A note:\n",
    "#--------\n",
    "# I assigned the unit 'year' to the column 'Intake Age' as its type should have been a float (as can be seen in the data directort below).\n",
    "# Given values like 'Age 90 or older' the whole column is cast as a string.\n",
    "# In a real wrok scenario, I would change 'Age 90 or older' to 90.000, for example, and cast the column as a float. "
   ]
  },
  {
   "cell_type": "code",
   "execution_count": 32,
   "metadata": {},
   "outputs": [
    {
     "data": {
      "text/html": [
       "<div>\n",
       "<style scoped>\n",
       "    .dataframe tbody tr th:only-of-type {\n",
       "        vertical-align: middle;\n",
       "    }\n",
       "\n",
       "    .dataframe tbody tr th {\n",
       "        vertical-align: top;\n",
       "    }\n",
       "\n",
       "    .dataframe thead th {\n",
       "        text-align: right;\n",
       "    }\n",
       "</style>\n",
       "<table border=\"1\" class=\"dataframe\">\n",
       "  <thead>\n",
       "    <tr style=\"text-align: right;\">\n",
       "      <th></th>\n",
       "      <th>name</th>\n",
       "      <th>coding_name</th>\n",
       "      <th>type</th>\n",
       "      <th>description</th>\n",
       "      <th>units</th>\n",
       "    </tr>\n",
       "  </thead>\n",
       "  <tbody>\n",
       "    <tr>\n",
       "      <th>0</th>\n",
       "      <td>Patient_ID</td>\n",
       "      <td>NaN</td>\n",
       "      <td>string</td>\n",
       "      <td>Patient Identifier</td>\n",
       "      <td>NaN</td>\n",
       "    </tr>\n",
       "    <tr>\n",
       "      <th>1</th>\n",
       "      <td>Sex</td>\n",
       "      <td>SEX</td>\n",
       "      <td>string</td>\n",
       "      <td>Sex</td>\n",
       "      <td>NaN</td>\n",
       "    </tr>\n",
       "    <tr>\n",
       "      <th>2</th>\n",
       "      <td>Race</td>\n",
       "      <td>RACE</td>\n",
       "      <td>string</td>\n",
       "      <td>Race</td>\n",
       "      <td>NaN</td>\n",
       "    </tr>\n",
       "    <tr>\n",
       "      <th>3</th>\n",
       "      <td>Intake_age</td>\n",
       "      <td>NaN</td>\n",
       "      <td>float</td>\n",
       "      <td>Intake Age</td>\n",
       "      <td>year</td>\n",
       "    </tr>\n",
       "    <tr>\n",
       "      <th>4</th>\n",
       "      <td>Last_seen</td>\n",
       "      <td>NaN</td>\n",
       "      <td>date</td>\n",
       "      <td>Date of Last Visit</td>\n",
       "      <td>NaN</td>\n",
       "    </tr>\n",
       "    <tr>\n",
       "      <th>5</th>\n",
       "      <td>PrimaryDiagnosisSiteCode</td>\n",
       "      <td>ICD10</td>\n",
       "      <td>string</td>\n",
       "      <td>Primary Diagnosis Code</td>\n",
       "      <td>NaN</td>\n",
       "    </tr>\n",
       "    <tr>\n",
       "      <th>6</th>\n",
       "      <td>Histology</td>\n",
       "      <td>Diagnosis</td>\n",
       "      <td>string</td>\n",
       "      <td>Patient condition or diagnosis name</td>\n",
       "      <td>NaN</td>\n",
       "    </tr>\n",
       "    <tr>\n",
       "      <th>7</th>\n",
       "      <td>ClinTStage</td>\n",
       "      <td>TNM staging - T category</td>\n",
       "      <td>string</td>\n",
       "      <td>Stage of original (primary) tumor</td>\n",
       "      <td>NaN</td>\n",
       "    </tr>\n",
       "    <tr>\n",
       "      <th>8</th>\n",
       "      <td>ClinNStage</td>\n",
       "      <td>TNM staging - N category</td>\n",
       "      <td>string</td>\n",
       "      <td>Stage of the lymph nodes</td>\n",
       "      <td>NaN</td>\n",
       "    </tr>\n",
       "    <tr>\n",
       "      <th>9</th>\n",
       "      <td>ClinMStage</td>\n",
       "      <td>TNM staging - M category</td>\n",
       "      <td>string</td>\n",
       "      <td>Stage of the Metastasis</td>\n",
       "      <td>NaN</td>\n",
       "    </tr>\n",
       "    <tr>\n",
       "      <th>10</th>\n",
       "      <td>pathologic tumor size</td>\n",
       "      <td>NaN</td>\n",
       "      <td>float</td>\n",
       "      <td>Pathologic Tumor Size</td>\n",
       "      <td>cm</td>\n",
       "    </tr>\n",
       "    <tr>\n",
       "      <th>11</th>\n",
       "      <td>mitotic rate</td>\n",
       "      <td>NaN</td>\n",
       "      <td>float</td>\n",
       "      <td>Measure of Cell Growth</td>\n",
       "      <td>mm2</td>\n",
       "    </tr>\n",
       "    <tr>\n",
       "      <th>12</th>\n",
       "      <td>HEIGHT3</td>\n",
       "      <td>NaN</td>\n",
       "      <td>float</td>\n",
       "      <td>Tumor Height</td>\n",
       "      <td>mm</td>\n",
       "    </tr>\n",
       "    <tr>\n",
       "      <th>13</th>\n",
       "      <td>WEIGHT</td>\n",
       "      <td>NaN</td>\n",
       "      <td>float</td>\n",
       "      <td>Tumor Weight</td>\n",
       "      <td>gr</td>\n",
       "    </tr>\n",
       "    <tr>\n",
       "      <th>14</th>\n",
       "      <td>BMI</td>\n",
       "      <td>NaN</td>\n",
       "      <td>float</td>\n",
       "      <td>Tumor Body Mass Index</td>\n",
       "      <td>kg / m2</td>\n",
       "    </tr>\n",
       "    <tr>\n",
       "      <th>15</th>\n",
       "      <td>Current_patent</td>\n",
       "      <td>NY</td>\n",
       "      <td>string</td>\n",
       "      <td>Current Patient</td>\n",
       "      <td>NaN</td>\n",
       "    </tr>\n",
       "  </tbody>\n",
       "</table>\n",
       "</div>"
      ],
      "text/plain": [
       "                        name               coding_name    type  \\\n",
       "0                 Patient_ID                       NaN  string   \n",
       "1                        Sex                       SEX  string   \n",
       "2                       Race                      RACE  string   \n",
       "3                 Intake_age                       NaN   float   \n",
       "4                  Last_seen                       NaN    date   \n",
       "5   PrimaryDiagnosisSiteCode                     ICD10  string   \n",
       "6                  Histology                 Diagnosis  string   \n",
       "7                 ClinTStage  TNM staging - T category  string   \n",
       "8                 ClinNStage  TNM staging - N category  string   \n",
       "9                 ClinMStage  TNM staging - M category  string   \n",
       "10     pathologic tumor size                       NaN   float   \n",
       "11              mitotic rate                       NaN   float   \n",
       "12                   HEIGHT3                       NaN   float   \n",
       "13                    WEIGHT                       NaN   float   \n",
       "14                       BMI                       NaN   float   \n",
       "15            Current_patent                        NY  string   \n",
       "\n",
       "                            description    units  \n",
       "0                    Patient Identifier      NaN  \n",
       "1                                   Sex      NaN  \n",
       "2                                  Race      NaN  \n",
       "3                            Intake Age     year  \n",
       "4                    Date of Last Visit      NaN  \n",
       "5                Primary Diagnosis Code      NaN  \n",
       "6   Patient condition or diagnosis name      NaN  \n",
       "7     Stage of original (primary) tumor      NaN  \n",
       "8              Stage of the lymph nodes      NaN  \n",
       "9               Stage of the Metastasis      NaN  \n",
       "10                Pathologic Tumor Size       cm  \n",
       "11               Measure of Cell Growth      mm2  \n",
       "12                         Tumor Height       mm  \n",
       "13                         Tumor Weight       gr  \n",
       "14                Tumor Body Mass Index  kg / m2  \n",
       "15                      Current Patient      NaN  "
      ]
     },
     "execution_count": 32,
     "metadata": {},
     "output_type": "execute_result"
    }
   ],
   "source": [
    "data_dictionary_df"
   ]
  },
  {
   "cell_type": "code",
   "execution_count": 192,
   "metadata": {},
   "outputs": [],
   "source": [
    "# saving dataframe to a csv file\n",
    "data_dictionary_df.to_csv('123_data_dictionary.csv')"
   ]
  },
  {
   "cell_type": "markdown",
   "metadata": {},
   "source": [
    "##### Uploading to DNAnexus:"
   ]
  },
  {
   "cell_type": "code",
   "execution_count": 193,
   "metadata": {},
   "outputs": [
    {
     "name": "stdout",
     "output_type": "stream",
     "text": [
      "file-GGYqbzj0k9004Pb71xp7f5VV\n"
     ]
    }
   ],
   "source": [
    "%%bash\n",
    "dx upload '123_data_dictionary.csv' --path /HarmonizedT-FeatureT/DNAnexus/ --brief"
   ]
  },
  {
   "cell_type": "markdown",
   "metadata": {},
   "source": [
    "### Task 3:\n",
    "\n",
    "❖\tCreate a coding dictionary file named 123_coding_dictionary.csv. This file will have a row for each unique value from every categorical data column. \n",
    "\n",
    "➢\tThe value found in the data will be listed in the “code” column.  \n",
    "➢\tIn some cases the codes can be translated to a meaning. \n",
    "➢\tIf the meaning is not obvious, the code and meaning columns can hold the same values.\n",
    "➢\tAn example file named example_coding_dict.csv is provided."
   ]
  },
  {
   "cell_type": "code",
   "execution_count": 194,
   "metadata": {},
   "outputs": [
    {
     "data": {
      "text/html": [
       "<div>\n",
       "<style scoped>\n",
       "    .dataframe tbody tr th:only-of-type {\n",
       "        vertical-align: middle;\n",
       "    }\n",
       "\n",
       "    .dataframe tbody tr th {\n",
       "        vertical-align: top;\n",
       "    }\n",
       "\n",
       "    .dataframe thead th {\n",
       "        text-align: right;\n",
       "    }\n",
       "</style>\n",
       "<table border=\"1\" class=\"dataframe\">\n",
       "  <thead>\n",
       "    <tr style=\"text-align: right;\">\n",
       "      <th></th>\n",
       "      <th>coding_name</th>\n",
       "      <th>code</th>\n",
       "      <th>meaning</th>\n",
       "    </tr>\n",
       "  </thead>\n",
       "  <tbody>\n",
       "    <tr>\n",
       "      <th>0</th>\n",
       "      <td>NY</td>\n",
       "      <td>N</td>\n",
       "      <td>No</td>\n",
       "    </tr>\n",
       "    <tr>\n",
       "      <th>1</th>\n",
       "      <td>NY</td>\n",
       "      <td>NaN</td>\n",
       "      <td>NA;Not Applicable</td>\n",
       "    </tr>\n",
       "    <tr>\n",
       "      <th>2</th>\n",
       "      <td>NY</td>\n",
       "      <td>U</td>\n",
       "      <td>U;UNK;Unknown</td>\n",
       "    </tr>\n",
       "    <tr>\n",
       "      <th>3</th>\n",
       "      <td>NY</td>\n",
       "      <td>Y</td>\n",
       "      <td>Yes</td>\n",
       "    </tr>\n",
       "    <tr>\n",
       "      <th>4</th>\n",
       "      <td>SEX</td>\n",
       "      <td>F</td>\n",
       "      <td>Female</td>\n",
       "    </tr>\n",
       "    <tr>\n",
       "      <th>5</th>\n",
       "      <td>SEX</td>\n",
       "      <td>M</td>\n",
       "      <td>Male</td>\n",
       "    </tr>\n",
       "  </tbody>\n",
       "</table>\n",
       "</div>"
      ],
      "text/plain": [
       "  coding_name code            meaning\n",
       "0          NY    N                 No\n",
       "1          NY  NaN  NA;Not Applicable\n",
       "2          NY    U      U;UNK;Unknown\n",
       "3          NY    Y                Yes\n",
       "4         SEX    F             Female\n",
       "5         SEX    M               Male"
      ]
     },
     "execution_count": 194,
     "metadata": {},
     "output_type": "execute_result"
    }
   ],
   "source": [
    "example_codings_dict"
   ]
  },
  {
   "cell_type": "markdown",
   "metadata": {},
   "source": [
    "### Solution 3"
   ]
  },
  {
   "cell_type": "markdown",
   "metadata": {},
   "source": [
    "#### Step 1 - Building a data dictionary for categorical columns only using the outcome of solution 2"
   ]
  },
  {
   "cell_type": "code",
   "execution_count": 34,
   "metadata": {},
   "outputs": [],
   "source": [
    "# Creat a subset dataframe using data_dictionary_df that holds info on categorical columns only: \n",
    "data_dictionary_categorical_df = data_dictionary_df.loc[~data_dictionary_df.coding_name.isna()]"
   ]
  },
  {
   "cell_type": "code",
   "execution_count": 35,
   "metadata": {},
   "outputs": [
    {
     "data": {
      "text/html": [
       "<div>\n",
       "<style scoped>\n",
       "    .dataframe tbody tr th:only-of-type {\n",
       "        vertical-align: middle;\n",
       "    }\n",
       "\n",
       "    .dataframe tbody tr th {\n",
       "        vertical-align: top;\n",
       "    }\n",
       "\n",
       "    .dataframe thead th {\n",
       "        text-align: right;\n",
       "    }\n",
       "</style>\n",
       "<table border=\"1\" class=\"dataframe\">\n",
       "  <thead>\n",
       "    <tr style=\"text-align: right;\">\n",
       "      <th></th>\n",
       "      <th>name</th>\n",
       "      <th>coding_name</th>\n",
       "      <th>type</th>\n",
       "      <th>description</th>\n",
       "      <th>units</th>\n",
       "    </tr>\n",
       "  </thead>\n",
       "  <tbody>\n",
       "    <tr>\n",
       "      <th>1</th>\n",
       "      <td>Sex</td>\n",
       "      <td>SEX</td>\n",
       "      <td>string</td>\n",
       "      <td>Sex</td>\n",
       "      <td>NaN</td>\n",
       "    </tr>\n",
       "    <tr>\n",
       "      <th>2</th>\n",
       "      <td>Race</td>\n",
       "      <td>RACE</td>\n",
       "      <td>string</td>\n",
       "      <td>Race</td>\n",
       "      <td>NaN</td>\n",
       "    </tr>\n",
       "    <tr>\n",
       "      <th>5</th>\n",
       "      <td>PrimaryDiagnosisSiteCode</td>\n",
       "      <td>ICD10</td>\n",
       "      <td>string</td>\n",
       "      <td>Primary Diagnosis Code</td>\n",
       "      <td>NaN</td>\n",
       "    </tr>\n",
       "    <tr>\n",
       "      <th>6</th>\n",
       "      <td>Histology</td>\n",
       "      <td>Diagnosis</td>\n",
       "      <td>string</td>\n",
       "      <td>Patient condition or diagnosis name</td>\n",
       "      <td>NaN</td>\n",
       "    </tr>\n",
       "    <tr>\n",
       "      <th>7</th>\n",
       "      <td>ClinTStage</td>\n",
       "      <td>TNM staging - T category</td>\n",
       "      <td>string</td>\n",
       "      <td>Stage of original (primary) tumor</td>\n",
       "      <td>NaN</td>\n",
       "    </tr>\n",
       "    <tr>\n",
       "      <th>8</th>\n",
       "      <td>ClinNStage</td>\n",
       "      <td>TNM staging - N category</td>\n",
       "      <td>string</td>\n",
       "      <td>Stage of the lymph nodes</td>\n",
       "      <td>NaN</td>\n",
       "    </tr>\n",
       "    <tr>\n",
       "      <th>9</th>\n",
       "      <td>ClinMStage</td>\n",
       "      <td>TNM staging - M category</td>\n",
       "      <td>string</td>\n",
       "      <td>Stage of the Metastasis</td>\n",
       "      <td>NaN</td>\n",
       "    </tr>\n",
       "    <tr>\n",
       "      <th>15</th>\n",
       "      <td>Current_patent</td>\n",
       "      <td>NY</td>\n",
       "      <td>string</td>\n",
       "      <td>Current Patient</td>\n",
       "      <td>NaN</td>\n",
       "    </tr>\n",
       "  </tbody>\n",
       "</table>\n",
       "</div>"
      ],
      "text/plain": [
       "                        name               coding_name    type  \\\n",
       "1                        Sex                       SEX  string   \n",
       "2                       Race                      RACE  string   \n",
       "5   PrimaryDiagnosisSiteCode                     ICD10  string   \n",
       "6                  Histology                 Diagnosis  string   \n",
       "7                 ClinTStage  TNM staging - T category  string   \n",
       "8                 ClinNStage  TNM staging - N category  string   \n",
       "9                 ClinMStage  TNM staging - M category  string   \n",
       "15            Current_patent                        NY  string   \n",
       "\n",
       "                            description units  \n",
       "1                                   Sex   NaN  \n",
       "2                                  Race   NaN  \n",
       "5                Primary Diagnosis Code   NaN  \n",
       "6   Patient condition or diagnosis name   NaN  \n",
       "7     Stage of original (primary) tumor   NaN  \n",
       "8              Stage of the lymph nodes   NaN  \n",
       "9               Stage of the Metastasis   NaN  \n",
       "15                      Current Patient   NaN  "
      ]
     },
     "execution_count": 35,
     "metadata": {},
     "output_type": "execute_result"
    }
   ],
   "source": [
    "data_dictionary_categorical_df"
   ]
  },
  {
   "cell_type": "markdown",
   "metadata": {},
   "source": [
    "#### Step 2 - creating a name-code dataframe"
   ]
  },
  {
   "cell_type": "code",
   "execution_count": 38,
   "metadata": {},
   "outputs": [
    {
     "name": "stdout",
     "output_type": "stream",
     "text": [
      "RE: Task1 -- Columns and Rows where values data type = set:\n",
      "rows with sets of values: [62, 14]\n",
      "columns with sets of values: ['ClinTStage', 'PrimaryDiagnosisSiteCode', 'ClinMStage', 'ClinNStage', 'Histology']\n"
     ]
    }
   ],
   "source": [
    "# Data123: columns and rows where values are data type set: all column (but Patient_ID) coming from df2, in rows 14 and 62\n",
    "\n",
    "print('RE: Task1 -- Columns and Rows where values data type = set:')\n",
    "print('rows with sets of values:', list(set(idx_lst)))\n",
    "print('columns with sets of values:', list(set(col_lst)))"
   ]
  },
  {
   "cell_type": "code",
   "execution_count": 36,
   "metadata": {},
   "outputs": [],
   "source": [
    "# Creat a dataframe using df2 and Data123 that connects between name and code: \n",
    "\n",
    "categorical_col_lst = data_dictionary_categorical_df.name.to_list()\n",
    "#print(categorical_col_lst)\n",
    "\n",
    "name = []\n",
    "code = []\n",
    "\n",
    "for col_name in categorical_col_lst:\n",
    "\n",
    "    unq_val_name = col_name + \"_unique_vals\"\n",
    "    \n",
    "    if col_name in col_lst:  # col_lst is a list of the column names where Data123 has type set data in some of the records (please find the answer for Task1 above) \n",
    "        unique_vals_lst = list(df2[col_name].unique())\n",
    "    else:\n",
    "        unique_vals_lst = list(Data123[col_name].unique())\n",
    "        \n",
    "    locals()[col_name] = [col_name for n in range(len(unique_vals_lst))]\n",
    "    locals()[unq_val_name] = unique_vals_lst\n",
    "\n",
    "    name.append(locals()[col_name])\n",
    "    code.append(locals()[unq_val_name])\n",
    "\n",
    "# flat name:\n",
    "flat_name = [x for lst in name for x in lst]\n",
    "flat_code = [x for lst in code for x in lst]\n",
    "\n",
    "# Creat a dataframe with two columns: 'name and 'code'\n",
    "zipped = list(zip(flat_name, flat_code))\n",
    "name_code_df = pd.DataFrame(zipped, columns=['name', 'code'])"
   ]
  },
  {
   "cell_type": "code",
   "execution_count": 39,
   "metadata": {},
   "outputs": [
    {
     "data": {
      "text/html": [
       "<div>\n",
       "<style scoped>\n",
       "    .dataframe tbody tr th:only-of-type {\n",
       "        vertical-align: middle;\n",
       "    }\n",
       "\n",
       "    .dataframe tbody tr th {\n",
       "        vertical-align: top;\n",
       "    }\n",
       "\n",
       "    .dataframe thead th {\n",
       "        text-align: right;\n",
       "    }\n",
       "</style>\n",
       "<table border=\"1\" class=\"dataframe\">\n",
       "  <thead>\n",
       "    <tr style=\"text-align: right;\">\n",
       "      <th></th>\n",
       "      <th>name</th>\n",
       "      <th>code</th>\n",
       "    </tr>\n",
       "  </thead>\n",
       "  <tbody>\n",
       "    <tr>\n",
       "      <th>0</th>\n",
       "      <td>Sex</td>\n",
       "      <td>F</td>\n",
       "    </tr>\n",
       "    <tr>\n",
       "      <th>1</th>\n",
       "      <td>Sex</td>\n",
       "      <td>M</td>\n",
       "    </tr>\n",
       "    <tr>\n",
       "      <th>2</th>\n",
       "      <td>Sex</td>\n",
       "      <td>NaN</td>\n",
       "    </tr>\n",
       "    <tr>\n",
       "      <th>3</th>\n",
       "      <td>Race</td>\n",
       "      <td>White</td>\n",
       "    </tr>\n",
       "    <tr>\n",
       "      <th>4</th>\n",
       "      <td>Race</td>\n",
       "      <td>NaN</td>\n",
       "    </tr>\n",
       "  </tbody>\n",
       "</table>\n",
       "</div>"
      ],
      "text/plain": [
       "   name   code\n",
       "0   Sex      F\n",
       "1   Sex      M\n",
       "2   Sex    NaN\n",
       "3  Race  White\n",
       "4  Race    NaN"
      ]
     },
     "execution_count": 39,
     "metadata": {},
     "output_type": "execute_result"
    }
   ],
   "source": [
    "name_code_df.head()"
   ]
  },
  {
   "cell_type": "markdown",
   "metadata": {},
   "source": [
    "#### Step 3 - creating a code-meaning dataframe"
   ]
  },
  {
   "cell_type": "code",
   "execution_count": 40,
   "metadata": {},
   "outputs": [],
   "source": [
    "# Building a dictionary of codes values as the keys and meanings as the values:\n",
    "\n",
    "dict_code = {'N': 'No', 'Y': 'Yes', 'y': 'Yes', 'NaN': 'NA;Not Applicable', 'U': 'U;UNK;Unknown',\n",
    "            'F': 'Female', 'M': 'Male', 'nan': 'Not Applicable / Not Available',\n",
    "             'No TNM applicable for this site/histology combination': 'TNM system not available',\n",
    "             'Tx': 'no information about the primary tumor', \n",
    "             'T1': 'tumor size and/or amount of spread into nearby structures', 'T2': 'tumor size and/or amount of spread into nearby structures',\n",
    "             'T1a': 'tumor is 1cm or less at its widest part', 'T1b': 'tumor is between 1cm and 2cm across', \n",
    "             'T2a': 'tumor is between 3cm and 4cm', 'T2b': 'tumor is between 4cm and 5cm',\n",
    "             'c1': 'TME-Classical complement pathway', 'c1a': 'TME-Classical complement pathway', 'c1b': 'TME-Classical complement pathway', \n",
    "             'c1c': 'TME-Classical complement pathway', 'c2': 'TME-Classical complement pathway',  'c2a': 'TME-Classical complement pathway',  \n",
    "             'c2b': 'TME-Classical complement pathway', 'c4b': 'TME-Classical complement pathway', \n",
    "             'c0': 'stage 0 - carcinoma in situ', 'c0i': 'stage 0 - carcinoma in situ', 'cis': 'carcinoma in situ', 'cx': 'chemotherapy combination: cisplatin & capecitabine (Xeloda)',\n",
    "             'N0': 'nearby lymph nodes do not contain cancer', 'Nx': 'no information about the nearby lymph nodes',\n",
    "             'M0': 'no distant metastasis' , 'M1': 'metastasis to distant organs or tissues', \n",
    "             'MX': 'cancers that could not be evaluated for Mitosis', 'C49.1': 'Diagnosis Code', 'C49.2': 'Diagnosis Code', 'C49.4': 'Diagnosis Code', 'C49.5': 'Diagnosis Code', 'C49.3': 'Diagnosis Code', 'C34.3': 'Diagnosis Code', \n",
    "             'C64.9': 'Diagnosis Code', 'C49.0': 'Diagnosis Code', 'C48.0': 'Diagnosis Code', 'C18.9': 'Diagnosis Code', 'C09.1': 'Diagnosis Code', 'C74.9': 'Diagnosis Code', \n",
    "             'C49.6': 'Diagnosis Code', 'C63.1': 'Diagnosis Code', 'C38.1':'Diagnosis Code', 'C16.1': 'Diagnosis Code', 'C48.1': 'Diagnosis Code', \n",
    "             'C17.9': 'Diagnosis Code', 'C54.9': 'Diagnosis Code', 'C18.2': 'Diagnosis Code', 'C47.1': 'Diagnosis Code', 'C61.9': 'Diagnosis Code'}\n",
    "\n",
    "# Resources: \n",
    "# 1. Cancer Staging - https://www.cancer.org/treatment/understanding-your-diagnosis/staging\n",
    "# 2. TNM staging - https://www.cancerresearchuk.org/about-cancer/lung-cancer/stages-types-grades/tnm-staging\n",
    "# 3. Complement System - https://www.immunology.org/public-information/bitesized-immunology/systems-and-processes/complement-system\n",
    "\n",
    "# A note:       \n",
    "#--------\n",
    "# I couldn't find info on 'c0i', therefore, the meaning in the table is my best guess. "
   ]
  },
  {
   "cell_type": "code",
   "execution_count": 41,
   "metadata": {},
   "outputs": [],
   "source": [
    "# Creating a dataframe with two columns: 'code' and 'meaning':\n",
    "\n",
    "code_lst = list(dict_code.keys())      # a list of dict_code keys\n",
    "meaning_lst = list(dict_code.values()) # a list of dict_code value \n",
    "\n",
    "zipped = list(zip(code_lst, meaning_lst))\n",
    "code_meaning_df = pd.DataFrame(zipped, columns=['code', 'meaning'])"
   ]
  },
  {
   "cell_type": "code",
   "execution_count": 42,
   "metadata": {},
   "outputs": [
    {
     "data": {
      "text/html": [
       "<div>\n",
       "<style scoped>\n",
       "    .dataframe tbody tr th:only-of-type {\n",
       "        vertical-align: middle;\n",
       "    }\n",
       "\n",
       "    .dataframe tbody tr th {\n",
       "        vertical-align: top;\n",
       "    }\n",
       "\n",
       "    .dataframe thead th {\n",
       "        text-align: right;\n",
       "    }\n",
       "</style>\n",
       "<table border=\"1\" class=\"dataframe\">\n",
       "  <thead>\n",
       "    <tr style=\"text-align: right;\">\n",
       "      <th></th>\n",
       "      <th>code</th>\n",
       "      <th>meaning</th>\n",
       "    </tr>\n",
       "  </thead>\n",
       "  <tbody>\n",
       "    <tr>\n",
       "      <th>0</th>\n",
       "      <td>N</td>\n",
       "      <td>No</td>\n",
       "    </tr>\n",
       "    <tr>\n",
       "      <th>1</th>\n",
       "      <td>Y</td>\n",
       "      <td>Yes</td>\n",
       "    </tr>\n",
       "    <tr>\n",
       "      <th>2</th>\n",
       "      <td>y</td>\n",
       "      <td>Yes</td>\n",
       "    </tr>\n",
       "    <tr>\n",
       "      <th>3</th>\n",
       "      <td>NaN</td>\n",
       "      <td>NA;Not Applicable</td>\n",
       "    </tr>\n",
       "    <tr>\n",
       "      <th>4</th>\n",
       "      <td>U</td>\n",
       "      <td>U;UNK;Unknown</td>\n",
       "    </tr>\n",
       "  </tbody>\n",
       "</table>\n",
       "</div>"
      ],
      "text/plain": [
       "  code            meaning\n",
       "0    N                 No\n",
       "1    Y                Yes\n",
       "2    y                Yes\n",
       "3  NaN  NA;Not Applicable\n",
       "4    U      U;UNK;Unknown"
      ]
     },
     "execution_count": 42,
     "metadata": {},
     "output_type": "execute_result"
    }
   ],
   "source": [
    "code_meaning_df.head()"
   ]
  },
  {
   "cell_type": "markdown",
   "metadata": {},
   "source": [
    "#### Step 4 - joining all three tables to get the final dataframe"
   ]
  },
  {
   "cell_type": "code",
   "execution_count": 43,
   "metadata": {},
   "outputs": [
    {
     "data": {
      "text/html": [
       "<div>\n",
       "<style scoped>\n",
       "    .dataframe tbody tr th:only-of-type {\n",
       "        vertical-align: middle;\n",
       "    }\n",
       "\n",
       "    .dataframe tbody tr th {\n",
       "        vertical-align: top;\n",
       "    }\n",
       "\n",
       "    .dataframe thead th {\n",
       "        text-align: right;\n",
       "    }\n",
       "</style>\n",
       "<table border=\"1\" class=\"dataframe\">\n",
       "  <thead>\n",
       "    <tr style=\"text-align: right;\">\n",
       "      <th></th>\n",
       "      <th>name</th>\n",
       "      <th>coding_name</th>\n",
       "      <th>type</th>\n",
       "      <th>description</th>\n",
       "      <th>units</th>\n",
       "    </tr>\n",
       "  </thead>\n",
       "  <tbody>\n",
       "    <tr>\n",
       "      <th>1</th>\n",
       "      <td>Sex</td>\n",
       "      <td>SEX</td>\n",
       "      <td>string</td>\n",
       "      <td>Sex</td>\n",
       "      <td>NaN</td>\n",
       "    </tr>\n",
       "  </tbody>\n",
       "</table>\n",
       "</div>"
      ],
      "text/plain": [
       "  name coding_name    type description units\n",
       "1  Sex         SEX  string         Sex   NaN"
      ]
     },
     "execution_count": 43,
     "metadata": {},
     "output_type": "execute_result"
    }
   ],
   "source": [
    "data_dictionary_categorical_df.head(1)"
   ]
  },
  {
   "cell_type": "code",
   "execution_count": 44,
   "metadata": {},
   "outputs": [
    {
     "data": {
      "text/html": [
       "<div>\n",
       "<style scoped>\n",
       "    .dataframe tbody tr th:only-of-type {\n",
       "        vertical-align: middle;\n",
       "    }\n",
       "\n",
       "    .dataframe tbody tr th {\n",
       "        vertical-align: top;\n",
       "    }\n",
       "\n",
       "    .dataframe thead th {\n",
       "        text-align: right;\n",
       "    }\n",
       "</style>\n",
       "<table border=\"1\" class=\"dataframe\">\n",
       "  <thead>\n",
       "    <tr style=\"text-align: right;\">\n",
       "      <th></th>\n",
       "      <th>name</th>\n",
       "      <th>code</th>\n",
       "    </tr>\n",
       "  </thead>\n",
       "  <tbody>\n",
       "    <tr>\n",
       "      <th>0</th>\n",
       "      <td>Sex</td>\n",
       "      <td>F</td>\n",
       "    </tr>\n",
       "  </tbody>\n",
       "</table>\n",
       "</div>"
      ],
      "text/plain": [
       "  name code\n",
       "0  Sex    F"
      ]
     },
     "execution_count": 44,
     "metadata": {},
     "output_type": "execute_result"
    }
   ],
   "source": [
    "name_code_df.head(1)"
   ]
  },
  {
   "cell_type": "code",
   "execution_count": 45,
   "metadata": {},
   "outputs": [
    {
     "data": {
      "text/html": [
       "<div>\n",
       "<style scoped>\n",
       "    .dataframe tbody tr th:only-of-type {\n",
       "        vertical-align: middle;\n",
       "    }\n",
       "\n",
       "    .dataframe tbody tr th {\n",
       "        vertical-align: top;\n",
       "    }\n",
       "\n",
       "    .dataframe thead th {\n",
       "        text-align: right;\n",
       "    }\n",
       "</style>\n",
       "<table border=\"1\" class=\"dataframe\">\n",
       "  <thead>\n",
       "    <tr style=\"text-align: right;\">\n",
       "      <th></th>\n",
       "      <th>code</th>\n",
       "      <th>meaning</th>\n",
       "    </tr>\n",
       "  </thead>\n",
       "  <tbody>\n",
       "    <tr>\n",
       "      <th>0</th>\n",
       "      <td>N</td>\n",
       "      <td>No</td>\n",
       "    </tr>\n",
       "  </tbody>\n",
       "</table>\n",
       "</div>"
      ],
      "text/plain": [
       "  code meaning\n",
       "0    N      No"
      ]
     },
     "execution_count": 45,
     "metadata": {},
     "output_type": "execute_result"
    }
   ],
   "source": [
    "code_meaning_df.head(1)"
   ]
  },
  {
   "cell_type": "code",
   "execution_count": 46,
   "metadata": {},
   "outputs": [],
   "source": [
    "# Creating coding_dictionary_df \n",
    "coding_dictionary_df = pd.merge(pd.merge(data_dictionary_categorical_df[['name', 'coding_name']], name_code_df, on='name', how =\"inner\"), code_meaning_df, on='code', how =\"left\")\n",
    "\n",
    "# Updating the 'meaning' column when 'code' column is nan:\n",
    "coding_dictionary_df.loc[coding_dictionary_df.code.isna(), 'meaning'] = 'NA;Not Applicable'\n",
    "\n",
    "# Updating the 'meaning' column when 'meaning' column is nan:\n",
    "coding_dictionary_df.loc[coding_dictionary_df.meaning.isna(), 'meaning'] = coding_dictionary_df.loc[coding_dictionary_df.meaning.isna()].code"
   ]
  },
  {
   "cell_type": "code",
   "execution_count": 48,
   "metadata": {},
   "outputs": [],
   "source": [
    "# Drop the 'name' column to get the desired dataframe:\n",
    "coding_dictionary_df = coding_dictionary_df.drop(['name'], axis=1)"
   ]
  },
  {
   "cell_type": "code",
   "execution_count": 51,
   "metadata": {},
   "outputs": [
    {
     "name": "stdout",
     "output_type": "stream",
     "text": [
      "(92, 3)\n"
     ]
    },
    {
     "data": {
      "text/html": [
       "<div>\n",
       "<style scoped>\n",
       "    .dataframe tbody tr th:only-of-type {\n",
       "        vertical-align: middle;\n",
       "    }\n",
       "\n",
       "    .dataframe tbody tr th {\n",
       "        vertical-align: top;\n",
       "    }\n",
       "\n",
       "    .dataframe thead th {\n",
       "        text-align: right;\n",
       "    }\n",
       "</style>\n",
       "<table border=\"1\" class=\"dataframe\">\n",
       "  <thead>\n",
       "    <tr style=\"text-align: right;\">\n",
       "      <th></th>\n",
       "      <th>coding_name</th>\n",
       "      <th>code</th>\n",
       "      <th>meaning</th>\n",
       "    </tr>\n",
       "  </thead>\n",
       "  <tbody>\n",
       "    <tr>\n",
       "      <th>0</th>\n",
       "      <td>SEX</td>\n",
       "      <td>F</td>\n",
       "      <td>Female</td>\n",
       "    </tr>\n",
       "    <tr>\n",
       "      <th>1</th>\n",
       "      <td>SEX</td>\n",
       "      <td>M</td>\n",
       "      <td>Male</td>\n",
       "    </tr>\n",
       "    <tr>\n",
       "      <th>2</th>\n",
       "      <td>SEX</td>\n",
       "      <td>NaN</td>\n",
       "      <td>NA;Not Applicable</td>\n",
       "    </tr>\n",
       "    <tr>\n",
       "      <th>3</th>\n",
       "      <td>RACE</td>\n",
       "      <td>White</td>\n",
       "      <td>White</td>\n",
       "    </tr>\n",
       "    <tr>\n",
       "      <th>4</th>\n",
       "      <td>RACE</td>\n",
       "      <td>NaN</td>\n",
       "      <td>NA;Not Applicable</td>\n",
       "    </tr>\n",
       "  </tbody>\n",
       "</table>\n",
       "</div>"
      ],
      "text/plain": [
       "  coding_name   code            meaning\n",
       "0         SEX      F             Female\n",
       "1         SEX      M               Male\n",
       "2         SEX    NaN  NA;Not Applicable\n",
       "3        RACE  White              White\n",
       "4        RACE    NaN  NA;Not Applicable"
      ]
     },
     "execution_count": 51,
     "metadata": {},
     "output_type": "execute_result"
    }
   ],
   "source": [
    "print(coding_dictionary_df.shape)\n",
    "coding_dictionary_df.head()"
   ]
  },
  {
   "cell_type": "code",
   "execution_count": 211,
   "metadata": {},
   "outputs": [],
   "source": [
    "# save dateframe Data123 to csv file:\n",
    "coding_dictionary_df.to_csv('123_coding_dictionary.csv')"
   ]
  },
  {
   "cell_type": "markdown",
   "metadata": {},
   "source": [
    "##### uploading to DNAnexus:"
   ]
  },
  {
   "cell_type": "code",
   "execution_count": 212,
   "metadata": {},
   "outputs": [
    {
     "name": "stdout",
     "output_type": "stream",
     "text": [
      "file-GGYqbzj0k90BQqq1P4gqy2PY\n"
     ]
    }
   ],
   "source": [
    "%%bash\n",
    "dx upload '123_coding_dictionary.csv' --path /HarmonizedT-FeatureT/DNAnexus/ --brief"
   ]
  }
 ],
 "metadata": {
  "kernelspec": {
   "display_name": "Python 3 (ipykernel)",
   "language": "python",
   "name": "python3"
  },
  "language_info": {
   "codemirror_mode": {
    "name": "ipython",
    "version": 3
   },
   "file_extension": ".py",
   "mimetype": "text/x-python",
   "name": "python",
   "nbconvert_exporter": "python",
   "pygments_lexer": "ipython3",
   "version": "3.9.12"
  }
 },
 "nbformat": 4,
 "nbformat_minor": 4
}
